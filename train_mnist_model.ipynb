{
 "cells": [
  {
   "cell_type": "code",
   "execution_count": null,
   "id": "b9e85756-4b32-4cff-8180-a52f48bfbba9",
   "metadata": {},
   "outputs": [],
   "source": [
    "import torch\n",
    "import torchvision"
   ]
  },
  {
   "cell_type": "code",
   "execution_count": null,
   "id": "2c0536a5-0bed-4342-b33b-1f66d5ea8ec4",
   "metadata": {},
   "outputs": [],
   "source": [
    "n_epochs = 3\n",
    "batch_size_train = 64\n",
    "batch_size_test = 1000\n",
    "learning_rate = 0.01\n",
    "momentum = 0.5\n",
    "log_interval = 10\n",
    "\n",
    "random_seed = 1\n",
    "torch.backends.cudnn.enabled = False\n",
    "torch.manual_seed(random_seed)"
   ]
  },
  {
   "cell_type": "code",
   "execution_count": null,
   "id": "9b4d10cd-4b03-483c-be30-7c4fadfebce8",
   "metadata": {},
   "outputs": [],
   "source": [
    "train_loader = torch.utils.data.DataLoader(\n",
    "  torchvision.datasets.MNIST('/files/', train=True, download=True,\n",
    "                             transform=torchvision.transforms.Compose([\n",
    "                               torchvision.transforms.ToTensor(),\n",
    "                               torchvision.transforms.Normalize(\n",
    "                                 (0.1307,), (0.3081,))\n",
    "                             ])),\n",
    "  batch_size=batch_size_train, shuffle=True)\n",
    "\n",
    "test_loader = torch.utils.data.DataLoader(\n",
    "  torchvision.datasets.MNIST('/files/', train=False, download=True,\n",
    "                             transform=torchvision.transforms.Compose([\n",
    "                               torchvision.transforms.ToTensor(),\n",
    "                               torchvision.transforms.Normalize(\n",
    "                                 (0.1307,), (0.3081,))\n",
    "                             ])),\n",
    "  batch_size=batch_size_test, shuffle=True)"
   ]
  },
  {
   "cell_type": "code",
   "execution_count": null,
   "id": "74f417f1-de9d-412c-b2e5-4d350e91f435",
   "metadata": {},
   "outputs": [],
   "source": [
    "examples = enumerate(test_loader)\n",
    "batch_idx, (example_data, example_targets) = next(examples)"
   ]
  },
  {
   "cell_type": "code",
   "execution_count": null,
   "id": "00695449-f162-499e-a63b-0574ffdc12f8",
   "metadata": {},
   "outputs": [],
   "source": [
    "example_data.shape"
   ]
  },
  {
   "cell_type": "code",
   "execution_count": null,
   "id": "fc6b6a68-10e4-4dc7-af58-35dc88226101",
   "metadata": {},
   "outputs": [],
   "source": [
    "import matplotlib.pyplot as plt\n",
    "\n",
    "fig = plt.figure()\n",
    "for i in range(6):\n",
    "  plt.subplot(2,3,i+1)\n",
    "  plt.tight_layout()\n",
    "  plt.imshow(example_data[i][0], cmap='gray', interpolation='none')\n",
    "  plt.title(\"Ground Truth: {}\".format(example_targets[i]))\n",
    "  plt.xticks([])\n",
    "  plt.yticks([])\n",
    "fig"
   ]
  },
  {
   "cell_type": "code",
   "execution_count": null,
   "id": "7e16595f-8447-4d3d-b890-bca70b2ff51b",
   "metadata": {},
   "outputs": [],
   "source": [
    "import torch.nn as nn\n",
    "import torch.nn.functional as F\n",
    "import torch.optim as optim"
   ]
  },
  {
   "cell_type": "code",
   "execution_count": null,
   "id": "26a9c5bc-27a3-432c-a3fa-3ee79459f5cb",
   "metadata": {},
   "outputs": [],
   "source": [
    "class Net(nn.Module):\n",
    "    def __init__(self):\n",
    "        super(Net, self).__init__()\n",
    "        self.conv1 = nn.Conv2d(1, 10, kernel_size=5)\n",
    "        self.conv2 = nn.Conv2d(10, 20, kernel_size=5)\n",
    "        self.conv2_drop = nn.Dropout2d()\n",
    "        self.fc1 = nn.Linear(320, 50)\n",
    "        self.fc2 = nn.Linear(50, 10)\n",
    "\n",
    "    def forward(self, x):\n",
    "        x = F.relu(F.max_pool2d(self.conv1(x), 2))\n",
    "        x = F.relu(F.max_pool2d(self.conv2_drop(self.conv2(x)), 2))\n",
    "        x = x.view(-1, 320)\n",
    "        x = F.relu(self.fc1(x))\n",
    "        x = F.dropout(x, training=self.training)\n",
    "        x = self.fc2(x)\n",
    "        return F.log_softmax(x)"
   ]
  },
  {
   "cell_type": "code",
   "execution_count": null,
   "id": "93f41e19-2d59-4bf8-af81-42a9dffcc00f",
   "metadata": {},
   "outputs": [],
   "source": [
    "network = Net()\n",
    "optimizer = optim.SGD(network.parameters(), lr=learning_rate,\n",
    "                      momentum=momentum)"
   ]
  },
  {
   "cell_type": "code",
   "execution_count": null,
   "id": "65e42bbd-afce-4f00-95b0-e6d15ce3d24a",
   "metadata": {},
   "outputs": [],
   "source": [
    "train_losses = []\n",
    "train_counter = []\n",
    "test_losses = []\n",
    "test_counter = [i*len(train_loader.dataset) for i in range(n_epochs + 1)]"
   ]
  },
  {
   "cell_type": "code",
   "execution_count": null,
   "id": "18c74b81-9d98-47b3-a1a1-046cc82b177f",
   "metadata": {},
   "outputs": [],
   "source": [
    "def train(epoch):\n",
    "  network.train()\n",
    "  for batch_idx, (data, target) in enumerate(train_loader):\n",
    "    optimizer.zero_grad()\n",
    "    output = network(data)\n",
    "    loss = F.nll_loss(output, target)\n",
    "    loss.backward()\n",
    "    optimizer.step()\n",
    "    if batch_idx % log_interval == 0:\n",
    "      print('Train Epoch: {} [{}/{} ({:.0f}%)]\\tLoss: {:.6f}'.format(\n",
    "        epoch, batch_idx * len(data), len(train_loader.dataset),\n",
    "        100. * batch_idx / len(train_loader), loss.item()))\n",
    "      train_losses.append(loss.item())\n",
    "      train_counter.append(\n",
    "        (batch_idx*64) + ((epoch-1)*len(train_loader.dataset)))\n",
    "      torch.save(network.state_dict(), 'model.pth')\n",
    "      torch.save(optimizer.state_dict(), 'optimizer.pth')"
   ]
  },
  {
   "cell_type": "code",
   "execution_count": null,
   "id": "27368d42-d0ae-4254-95b7-4af447221a2f",
   "metadata": {},
   "outputs": [],
   "source": [
    "def test():\n",
    "  network.eval()\n",
    "  test_loss = 0\n",
    "  correct = 0\n",
    "  with torch.no_grad():\n",
    "    for data, target in test_loader:\n",
    "      output = network(data)\n",
    "      test_loss += F.nll_loss(output, target, size_average=False).item()\n",
    "      pred = output.data.max(1, keepdim=True)[1]\n",
    "      correct += pred.eq(target.data.view_as(pred)).sum()\n",
    "  test_loss /= len(test_loader.dataset)\n",
    "  test_losses.append(test_loss)\n",
    "  print('\\nTest set: Avg. loss: {:.4f}, Accuracy: {}/{} ({:.0f}%)\\n'.format(\n",
    "    test_loss, correct, len(test_loader.dataset),\n",
    "    100. * correct / len(test_loader.dataset)))"
   ]
  },
  {
   "cell_type": "code",
   "execution_count": null,
   "id": "e22d77e8-a4f3-42a3-8c93-649f401706de",
   "metadata": {},
   "outputs": [],
   "source": [
    "test()\n",
    "for epoch in range(1, n_epochs + 1):\n",
    "  train(epoch)\n",
    "  test()"
   ]
  },
  {
   "cell_type": "code",
   "execution_count": null,
   "id": "65b25ca7-8123-44a9-b241-d24ac5641eac",
   "metadata": {},
   "outputs": [],
   "source": [
    "fig = plt.figure()\n",
    "plt.plot(train_counter, train_losses, color='blue')\n",
    "plt.scatter(test_counter, test_losses, color='red')\n",
    "plt.legend(['Train Loss', 'Test Loss'], loc='upper right')\n",
    "plt.xlabel('number of training examples seen')\n",
    "plt.ylabel('negative log likelihood loss')\n",
    "fig"
   ]
  },
  {
   "cell_type": "code",
   "execution_count": null,
   "id": "5a86e574-065f-4ab2-b59f-2f365455a945",
   "metadata": {},
   "outputs": [],
   "source": [
    "with torch.no_grad():\n",
    "  output = network(example_data)"
   ]
  },
  {
   "cell_type": "code",
   "execution_count": null,
   "id": "6b99e061-f0ef-4f1d-a5c2-99731226e6e1",
   "metadata": {},
   "outputs": [],
   "source": [
    "fig = plt.figure()\n",
    "for i in range(6):\n",
    "  plt.subplot(2,3,i+1)\n",
    "  plt.tight_layout()\n",
    "  plt.imshow(example_data[i][0], cmap='gray', interpolation='none')\n",
    "  plt.title(\"Prediction: {}\".format(\n",
    "    output.data.max(1, keepdim=True)[1][i].item()))\n",
    "  plt.xticks([])\n",
    "  plt.yticks([])\n",
    "fig\n"
   ]
  },
  {
   "cell_type": "code",
   "execution_count": null,
   "id": "a5e3242f-d147-4254-aad6-2cd6273df199",
   "metadata": {},
   "outputs": [],
   "source": [
    "network.parameters()"
   ]
  },
  {
   "cell_type": "code",
   "execution_count": null,
   "id": "07f10fa7-1e5d-43aa-82e9-b9f39c7eb11a",
   "metadata": {},
   "outputs": [],
   "source": [
    "network"
   ]
  },
  {
   "cell_type": "code",
   "execution_count": null,
   "id": "30ff6431-88c7-483c-8877-53529100714f",
   "metadata": {
    "tags": []
   },
   "outputs": [],
   "source": [
    "network.state_dict()"
   ]
  },
  {
   "cell_type": "code",
   "execution_count": null,
   "id": "e9f6d97d-7623-41cb-b48c-df84a634d0c6",
   "metadata": {},
   "outputs": [],
   "source": [
    "import sagemaker\n",
    "\n",
    "sagemaker_session = sagemaker.Session()\n",
    "\n",
    "bucket = sagemaker_session.default_bucket()\n",
    "prefix = \"sagemaker/me-mnist\"\n",
    "\n",
    "role = sagemaker.get_execution_role()"
   ]
  },
  {
   "cell_type": "code",
   "execution_count": null,
   "id": "b44a1103-5b57-4a45-b73e-789dc918ea71",
   "metadata": {},
   "outputs": [],
   "source": [
    "role"
   ]
  },
  {
   "cell_type": "code",
   "execution_count": null,
   "id": "79c3d434-4cf8-4983-96c8-8f375b2d415a",
   "metadata": {},
   "outputs": [],
   "source": [
    "import boto3"
   ]
  },
  {
   "cell_type": "code",
   "execution_count": null,
   "id": "a78b5edf-6297-46c7-b32f-cbbba9f77648",
   "metadata": {},
   "outputs": [],
   "source": [
    "s3 = boto3.resource('s3')"
   ]
  },
  {
   "cell_type": "code",
   "execution_count": null,
   "id": "4803e08b-f234-46f3-a10b-5d83fd5a38d8",
   "metadata": {},
   "outputs": [],
   "source": [
    "bucket"
   ]
  },
  {
   "cell_type": "code",
   "execution_count": null,
   "id": "3c7a4a51-8b06-4852-90d5-71ed2a9ce67f",
   "metadata": {},
   "outputs": [],
   "source": [
    "import tarfile\n",
    "import os.path\n",
    "output_filename = \"model.tar.gz\"\n",
    "source_dir = \"model.pth\"\n",
    "def make_tarfile(output_filename, source_dir):\n",
    "    with tarfile.open(output_filename, \"w:gz\") as tar:\n",
    "        tar.add(source_dir, arcname=os.path.basename(source_dir))"
   ]
  },
  {
   "cell_type": "code",
   "execution_count": null,
   "id": "e54dc08d-321d-4f92-9341-dcd5f8db587f",
   "metadata": {},
   "outputs": [],
   "source": [
    "make_tarfile(output_filename,source_dir)"
   ]
  },
  {
   "cell_type": "code",
   "execution_count": null,
   "id": "949e43f6-ef1d-4f32-bef3-3c15e3b5ac6f",
   "metadata": {
    "tags": []
   },
   "outputs": [],
   "source": [
    "s3.meta.client.upload_file(\"model.tar.gz\", bucket, 'me-mnist.tar.gz')"
   ]
  },
  {
   "cell_type": "code",
   "execution_count": null,
   "id": "26c3c2ab-eba9-4ed4-806e-257873b9f0c4",
   "metadata": {
    "tags": []
   },
   "outputs": [],
   "source": [
    "for my_bucket_object in s3.Bucket(bucket).objects.all():\n",
    "    print(my_bucket_object)"
   ]
  },
  {
   "cell_type": "code",
   "execution_count": null,
   "id": "08c66a0e-7570-4d6c-a7f1-7ff3b3ae38a8",
   "metadata": {},
   "outputs": [],
   "source": [
    "model_s3_key = \"me-mnist.tar.gz\"\n",
    "model_url = f's3://{bucket}/{model_s3_key}'  "
   ]
  },
  {
   "cell_type": "code",
   "execution_count": null,
   "id": "49b91205-a5f2-4899-a092-51a257ce3409",
   "metadata": {},
   "outputs": [],
   "source": [
    "region = sagemaker_session.boto_region_name"
   ]
  },
  {
   "cell_type": "code",
   "execution_count": null,
   "id": "5ce30902-d4c8-46f0-a108-d001f8ebef8c",
   "metadata": {},
   "outputs": [],
   "source": [
    "!pip install -U sagemaker"
   ]
  },
  {
   "cell_type": "code",
   "execution_count": null,
   "id": "f25ebd22-6bf7-4d16-b47f-ef56a2dce386",
   "metadata": {},
   "outputs": [],
   "source": [
    "from sagemaker import image_uris\n",
    "\n",
    "# Name of the framework or algorithm\n",
    "framework='pytorch'\n",
    "#framework='xgboost' # Example\n",
    "\n",
    "# Version of the framework or algorithm\n",
    "version = '1.12.1'\n",
    "#version = '0.90-1' # Example\n",
    "\n",
    "# Specify an AWS container image. \n",
    "# container = image_uris.retrieve(region=region, \n",
    "#                                 framework=framework, \n",
    "#                                 version=version)\n",
    "container = image_uris.retrieve(framework='pytorch',region='ap-south-1',version='1.8.0',py_version='py3',image_scope='inference', instance_type='ml.c5.4xlarge')"
   ]
  },
  {
   "cell_type": "code",
   "execution_count": null,
   "id": "d813db6a-f4f5-4c33-990a-c243f6e5563e",
   "metadata": {},
   "outputs": [],
   "source": [
    "container"
   ]
  },
  {
   "cell_type": "code",
   "execution_count": null,
   "id": "900bc57c-8eeb-494d-bbb1-dbd5e259d4cf",
   "metadata": {},
   "outputs": [],
   "source": [
    "s3_output_location = bucket  + \"/output\""
   ]
  },
  {
   "cell_type": "code",
   "execution_count": null,
   "id": "21cef341-5415-4131-9257-85032e040af8",
   "metadata": {},
   "outputs": [],
   "source": [
    "torch.__version__"
   ]
  },
  {
   "cell_type": "code",
   "execution_count": null,
   "id": "d184db66-246a-4ea2-b529-39b2930053c9",
   "metadata": {},
   "outputs": [],
   "source": [
    "!cat \"/opt/conda/lib/python3.8/site-packages/sagemaker/image_uri_config/PyTorch.json\""
   ]
  },
  {
   "cell_type": "code",
   "execution_count": null,
   "id": "96eeb799-b7dd-4d90-a7ef-2d14945da355",
   "metadata": {},
   "outputs": [],
   "source": [
    "!ls \"/opt/conda/lib/python3.7/site-packages/sagemaker/image_uri_config\""
   ]
  },
  {
   "cell_type": "code",
   "execution_count": null,
   "id": "0404853c-5b58-4fc7-a2bf-08d91d9e67ec",
   "metadata": {
    "tags": []
   },
   "outputs": [],
   "source": [
    "!cat \"/opt/conda/lib/python3.7/site-packages/sagemaker/image_uri_config/pytorch.json\""
   ]
  },
  {
   "cell_type": "code",
   "execution_count": null,
   "id": "f45f3e64-74d7-4a09-85af-3ad4a380a1d7",
   "metadata": {},
   "outputs": [],
   "source": [
    "sagemaker_session.__dict__"
   ]
  },
  {
   "cell_type": "code",
   "execution_count": null,
   "id": "ece40797-d0ad-4a2f-ba03-1492e3902755",
   "metadata": {},
   "outputs": [],
   "source": [
    "from sagemaker.pytorch import PyTorchModel\n",
    "from sagemaker import get_execution_role\n",
    "role = get_execution_role()"
   ]
  },
  {
   "cell_type": "code",
   "execution_count": null,
   "id": "56092a3a-5e6d-4767-8a34-9f1da77802b3",
   "metadata": {},
   "outputs": [],
   "source": [
    "role"
   ]
  },
  {
   "cell_type": "code",
   "execution_count": null,
   "id": "53938421-81c0-469f-a3ea-620b7e0b32af",
   "metadata": {},
   "outputs": [],
   "source": [
    "pytorch_model = PyTorchModel(\n",
    "    model_data=model_url, \n",
    "    role=role, \n",
    "    entry_point='inference.py', \n",
    "    framework_version='1.3.1',\n",
    "    py_version=\"py3\"\n",
    ")"
   ]
  },
  {
   "cell_type": "code",
   "execution_count": null,
   "id": "2c8d7d31-365e-4cfd-87f9-011ec7727b6a",
   "metadata": {},
   "outputs": [],
   "source": [
    "pytorch_model"
   ]
  },
  {
   "cell_type": "code",
   "execution_count": null,
   "id": "157f9a2e-b356-4d3f-ae51-7f95591fbfaf",
   "metadata": {},
   "outputs": [],
   "source": [
    "predictor = pytorch_model.deploy(instance_type='ml.t2.medium', initial_instance_count=1)"
   ]
  },
  {
   "cell_type": "code",
   "execution_count": null,
   "id": "2f34e3e9-7809-4f1b-903d-e1977bdb5c82",
   "metadata": {},
   "outputs": [],
   "source": [
    "predictor"
   ]
  },
  {
   "cell_type": "code",
   "execution_count": null,
   "id": "77bb106c-4efe-455a-8a5a-288baad5afd2",
   "metadata": {},
   "outputs": [],
   "source": [
    "import random\n",
    "import numpy as np\n",
    "\n",
    "dummy_data = {\"inputs\": np.random.rand(16, 1, 28, 28).tolist()}"
   ]
  },
  {
   "cell_type": "code",
   "execution_count": null,
   "id": "aefa9994-1c1b-4c54-9de9-ac71639c7f32",
   "metadata": {
    "tags": []
   },
   "outputs": [],
   "source": [
    "dummy_data"
   ]
  },
  {
   "cell_type": "code",
   "execution_count": null,
   "id": "b7a13eb7-d779-4568-8dcf-67b5958d6d4a",
   "metadata": {},
   "outputs": [],
   "source": [
    "res = predictor.predict(dummy_data)"
   ]
  },
  {
   "cell_type": "code",
   "execution_count": null,
   "id": "402734bd-c524-4d16-aa26-148cd33df3c4",
   "metadata": {},
   "outputs": [],
   "source": [
    "model_url"
   ]
  },
  {
   "cell_type": "code",
   "execution_count": null,
   "id": "046ca02a-4492-4bb7-8500-7201fd0a93e2",
   "metadata": {},
   "outputs": [],
   "source": [
    "!cp model.tar.gz me-mnist.tar.gz"
   ]
  },
  {
   "cell_type": "code",
   "execution_count": null,
   "id": "080ea334-934a-44d1-9122-a28b45c3b895",
   "metadata": {},
   "outputs": [],
   "source": [
    "!cp me-mnist.tar.gz /opt/ml/model/me-mnist.tar.gz"
   ]
  },
  {
   "cell_type": "code",
   "execution_count": null,
   "id": "d96d5a87-23e2-4abf-9caa-8f7b03af7879",
   "metadata": {},
   "outputs": [],
   "source": [
    "!ls /opt/ml/model"
   ]
  },
  {
   "cell_type": "code",
   "execution_count": null,
   "id": "4844c06e-0954-4804-83d8-0bbe30b67bbc",
   "metadata": {},
   "outputs": [],
   "source": [
    "predictor.delete_endpoint()"
   ]
  },
  {
   "cell_type": "code",
   "execution_count": null,
   "id": "40cef0fa-10bc-4c31-8379-186937207360",
   "metadata": {},
   "outputs": [],
   "source": [
    "!ls -ltrh"
   ]
  },
  {
   "cell_type": "code",
   "execution_count": null,
   "id": "3a77dce3-99a9-4bc4-9c36-22a34e8079a3",
   "metadata": {},
   "outputs": [],
   "source": [
    "!ls -l /opt/ml/model"
   ]
  },
  {
   "cell_type": "code",
   "execution_count": null,
   "id": "4593ec55-cb2b-4121-8749-2f73d27ea853",
   "metadata": {},
   "outputs": [],
   "source": [
    "!cat /opt/ml/model"
   ]
  },
  {
   "cell_type": "code",
   "execution_count": null,
   "id": "537f7ca2-0804-452c-bd80-dd5840237fa3",
   "metadata": {},
   "outputs": [],
   "source": [
    "!rm /opt/ml/model"
   ]
  },
  {
   "cell_type": "code",
   "execution_count": null,
   "id": "7da2731c-ea13-470c-beb1-d02b97f80cb4",
   "metadata": {},
   "outputs": [],
   "source": [
    "torch.__version__"
   ]
  },
  {
   "cell_type": "code",
   "execution_count": null,
   "id": "327b09b9-f197-4583-8d12-86535a49942d",
   "metadata": {},
   "outputs": [],
   "source": [
    "pytorch_model.__dict__"
   ]
  },
  {
   "cell_type": "code",
   "execution_count": null,
   "id": "8a755d3d-b128-4a61-b059-4e08f8320338",
   "metadata": {},
   "outputs": [],
   "source": []
  }
 ],
 "metadata": {
  "instance_type": "ml.t3.medium",
  "kernelspec": {
   "display_name": "Python 3 (Data Science)",
   "language": "python",
   "name": "python3__SAGEMAKER_INTERNAL__arn:aws:sagemaker:ap-south-1:394103062818:image/datascience-1.0"
  },
  "language_info": {
   "codemirror_mode": {
    "name": "ipython",
    "version": 3
   },
   "file_extension": ".py",
   "mimetype": "text/x-python",
   "name": "python",
   "nbconvert_exporter": "python",
   "pygments_lexer": "ipython3",
   "version": "3.7.10"
  }
 },
 "nbformat": 4,
 "nbformat_minor": 5
}
